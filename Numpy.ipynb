{
  "nbformat": 4,
  "nbformat_minor": 0,
  "metadata": {
    "colab": {
      "provenance": []
    },
    "kernelspec": {
      "name": "python3",
      "display_name": "Python 3"
    },
    "language_info": {
      "name": "python"
    }
  },
  "cells": [
    {
      "cell_type": "code",
      "source": [],
      "metadata": {
        "id": "MUGYA2HU1vsS"
      },
      "execution_count": null,
      "outputs": []
    },
    {
      "cell_type": "code",
      "source": [],
      "metadata": {
        "id": "rf0QBow-1wu3"
      },
      "execution_count": null,
      "outputs": []
    },
    {
      "cell_type": "code",
      "execution_count": null,
      "metadata": {
        "id": "xnFL0IxA1adh"
      },
      "outputs": [],
      "source": [
        " import numpy as np\n",
        "\n"
      ]
    },
    {
      "cell_type": "markdown",
      "source": [
        "List Vs Numpy-Time Taken"
      ],
      "metadata": {
        "id": "8XYtW2eA105L"
      }
    },
    {
      "cell_type": "code",
      "source": [
        "from time import process_time\n"
      ],
      "metadata": {
        "id": "Mx3x7MqC1zcl"
      },
      "execution_count": null,
      "outputs": []
    },
    {
      "cell_type": "markdown",
      "source": [
        "Time taken by a list\n"
      ],
      "metadata": {
        "id": "a42Iz2rR19Yt"
      }
    },
    {
      "cell_type": "code",
      "source": [
        "python_list =[i for i in range(10000)]\n",
        "start_time=process_time()\n",
        "python_list=[i+5 for i in python_list]\n",
        "end_time=process_time()\n",
        "print(end_time-start_time)"
      ],
      "metadata": {
        "colab": {
          "base_uri": "https://localhost:8080/"
        },
        "id": "qtdG5PXQ2BWw",
        "outputId": "d71ce7e2-d5ad-40b9-eebc-ece2b2988d1c"
      },
      "execution_count": null,
      "outputs": [
        {
          "output_type": "stream",
          "name": "stdout",
          "text": [
            "0.0007178569999997109\n"
          ]
        }
      ]
    },
    {
      "cell_type": "code",
      "source": [
        "np_array=np.array([i for i in range(10000)])\n",
        "start_time=process_time()\n",
        "np_array+=5\n",
        "end_time=process_time()\n",
        "print(end_time-start_time)\n"
      ],
      "metadata": {
        "colab": {
          "base_uri": "https://localhost:8080/"
        },
        "id": "nSNmHjzg2T9d",
        "outputId": "aa5dd46c-a71a-4d09-e3e3-0d38198503aa"
      },
      "execution_count": null,
      "outputs": [
        {
          "output_type": "stream",
          "name": "stdout",
          "text": [
            "0.0006756990000003071\n"
          ]
        }
      ]
    },
    {
      "cell_type": "markdown",
      "source": [
        "Numpy Array"
      ],
      "metadata": {
        "id": "23fWiXdt2oss"
      }
    },
    {
      "cell_type": "code",
      "source": [
        "#list\n",
        "list1=[1,2,3,4,5]\n",
        "print(list1)\n",
        "type(list1)"
      ],
      "metadata": {
        "colab": {
          "base_uri": "https://localhost:8080/"
        },
        "id": "aVOJH19q2h-t",
        "outputId": "847d13ec-69a7-4921-b3fd-3cf7973f897f"
      },
      "execution_count": null,
      "outputs": [
        {
          "output_type": "stream",
          "name": "stdout",
          "text": [
            "[1, 2, 3, 4, 5]\n"
          ]
        },
        {
          "output_type": "execute_result",
          "data": {
            "text/plain": [
              "list"
            ]
          },
          "metadata": {},
          "execution_count": 5
        }
      ]
    },
    {
      "cell_type": "code",
      "source": [
        "np_array=np.array([1,2,3,4,5])\n",
        "print(np_array)\n",
        "type(np_array)\n"
      ],
      "metadata": {
        "colab": {
          "base_uri": "https://localhost:8080/"
        },
        "id": "5MpRX33I2xhK",
        "outputId": "72969a7e-105e-46e4-ea52-e796f6ffce8d"
      },
      "execution_count": null,
      "outputs": [
        {
          "output_type": "stream",
          "name": "stdout",
          "text": [
            "[1 2 3 4 5]\n"
          ]
        },
        {
          "output_type": "execute_result",
          "data": {
            "text/plain": [
              "numpy.ndarray"
            ]
          },
          "metadata": {},
          "execution_count": 6
        }
      ]
    },
    {
      "cell_type": "code",
      "source": [
        "#creating a 1d array\n",
        "a=np.array([1,2,3,4])\n",
        "print(a)"
      ],
      "metadata": {
        "colab": {
          "base_uri": "https://localhost:8080/"
        },
        "id": "-hftU2dl26NL",
        "outputId": "1d59d64a-40ed-46a4-9680-9a50dcb8113d"
      },
      "execution_count": null,
      "outputs": [
        {
          "output_type": "stream",
          "name": "stdout",
          "text": [
            "[1 2 3 4]\n"
          ]
        }
      ]
    },
    {
      "cell_type": "code",
      "source": [
        "#creating a 2d array\n",
        "b=np.array([(1,2,3,4),(5,6,7,8)])\n",
        "print(b)"
      ],
      "metadata": {
        "colab": {
          "base_uri": "https://localhost:8080/"
        },
        "id": "MS5theVp3AdT",
        "outputId": "b55c1a3a-d067-4d81-9359-b2f8cf12806d"
      },
      "execution_count": null,
      "outputs": [
        {
          "output_type": "stream",
          "name": "stdout",
          "text": [
            "[[1 2 3 4]\n",
            " [5 6 7 8]]\n"
          ]
        }
      ]
    },
    {
      "cell_type": "code",
      "source": [
        "b.shape"
      ],
      "metadata": {
        "colab": {
          "base_uri": "https://localhost:8080/"
        },
        "id": "65Qe3m2x3E_z",
        "outputId": "05559b5f-09a6-4175-e987-c0dbc324c0f2"
      },
      "execution_count": null,
      "outputs": [
        {
          "output_type": "execute_result",
          "data": {
            "text/plain": [
              "(2, 4)"
            ]
          },
          "metadata": {},
          "execution_count": 9
        }
      ]
    },
    {
      "cell_type": "code",
      "source": [
        "c= np.array([(1,3,5,8),(5,6,7,8)],dtype=float)\n",
        "print(c)"
      ],
      "metadata": {
        "colab": {
          "base_uri": "https://localhost:8080/"
        },
        "id": "SUhTlfHU3L1R",
        "outputId": "4b8ae804-7e10-4076-c7a3-abf34e86b529"
      },
      "execution_count": null,
      "outputs": [
        {
          "output_type": "stream",
          "name": "stdout",
          "text": [
            "[[1. 3. 5. 8.]\n",
            " [5. 6. 7. 8.]]\n"
          ]
        }
      ]
    },
    {
      "cell_type": "code",
      "source": [
        "x=np.zeros((4,5))\n",
        "print(x)"
      ],
      "metadata": {
        "colab": {
          "base_uri": "https://localhost:8080/"
        },
        "id": "G2b1YxCn3xRv",
        "outputId": "edcc4293-3ff5-4579-ef7b-d8caab77bddd"
      },
      "execution_count": null,
      "outputs": [
        {
          "output_type": "stream",
          "name": "stdout",
          "text": [
            "[[0. 0. 0. 0. 0.]\n",
            " [0. 0. 0. 0. 0.]\n",
            " [0. 0. 0. 0. 0.]\n",
            " [0. 0. 0. 0. 0.]]\n"
          ]
        }
      ]
    },
    {
      "cell_type": "code",
      "source": [
        "#create a numpy array of ones\n",
        "y=np.ones((3,3))\n",
        "print(y)"
      ],
      "metadata": {
        "colab": {
          "base_uri": "https://localhost:8080/"
        },
        "id": "2KmvBY7939jP",
        "outputId": "4c59db1e-f687-456e-aa31-ad595df2d711"
      },
      "execution_count": null,
      "outputs": [
        {
          "output_type": "stream",
          "name": "stdout",
          "text": [
            "[[1. 1. 1.]\n",
            " [1. 1. 1.]\n",
            " [1. 1. 1.]]\n"
          ]
        }
      ]
    },
    {
      "cell_type": "code",
      "source": [
        "z=np.full((5,4),5)\n",
        "print(z)"
      ],
      "metadata": {
        "colab": {
          "base_uri": "https://localhost:8080/"
        },
        "id": "FoAJztnC4E18",
        "outputId": "12a1072c-fb80-489f-cc14-371ca3352ef1"
      },
      "execution_count": null,
      "outputs": [
        {
          "output_type": "stream",
          "name": "stdout",
          "text": [
            "[[5 5 5 5]\n",
            " [5 5 5 5]\n",
            " [5 5 5 5]\n",
            " [5 5 5 5]\n",
            " [5 5 5 5]]\n"
          ]
        }
      ]
    },
    {
      "cell_type": "code",
      "source": [
        "#create an idendity matrix\n",
        "a=np.eye(4)\n",
        "print(a)"
      ],
      "metadata": {
        "colab": {
          "base_uri": "https://localhost:8080/"
        },
        "id": "J22RyUMW4N2a",
        "outputId": "7f3268a8-2e65-45ff-ac23-8718b5cf1a0a"
      },
      "execution_count": null,
      "outputs": [
        {
          "output_type": "stream",
          "name": "stdout",
          "text": [
            "[[1. 0. 0. 0.]\n",
            " [0. 1. 0. 0.]\n",
            " [0. 0. 1. 0.]\n",
            " [0. 0. 0. 1.]]\n"
          ]
        }
      ]
    },
    {
      "cell_type": "code",
      "source": [
        "#create a numpy array with random values\n",
        "b=np.random.random((3,4))\n",
        "print(b)"
      ],
      "metadata": {
        "colab": {
          "base_uri": "https://localhost:8080/"
        },
        "id": "9V90LHOX4UdT",
        "outputId": "7ed63edf-570d-4c88-b202-8e35d6ad629f"
      },
      "execution_count": null,
      "outputs": [
        {
          "output_type": "stream",
          "name": "stdout",
          "text": [
            "[[0.51649626 0.80849879 0.38998573 0.78601686]\n",
            " [0.38981572 0.6872396  0.50081884 0.16132135]\n",
            " [0.56350904 0.27340261 0.18227275 0.598487  ]]\n"
          ]
        }
      ]
    },
    {
      "cell_type": "code",
      "source": [
        "#create a numpy array with integer values with  specific range\n",
        "c=np.random.randint(10,20,(3,5))\n",
        "print(c)"
      ],
      "metadata": {
        "colab": {
          "base_uri": "https://localhost:8080/"
        },
        "id": "bGALRcj74kv_",
        "outputId": "e0f764e8-395f-4cf1-fa1a-a1f96955baa6"
      },
      "execution_count": null,
      "outputs": [
        {
          "output_type": "stream",
          "name": "stdout",
          "text": [
            "[[19 19 11 14 18]\n",
            " [12 16 16 19 12]\n",
            " [19 19 18 12 15]]\n"
          ]
        }
      ]
    },
    {
      "cell_type": "code",
      "source": [
        "#array of evenly spaced values-->specify the number of values require\n",
        "d= np.linspace(10,30,6)\n",
        "print(d)"
      ],
      "metadata": {
        "colab": {
          "base_uri": "https://localhost:8080/"
        },
        "id": "9utIJOc-5C4a",
        "outputId": "d3ea3bd1-f131-40a4-aed6-6b31d753d1c1"
      },
      "execution_count": null,
      "outputs": [
        {
          "output_type": "stream",
          "name": "stdout",
          "text": [
            "[10. 14. 18. 22. 26. 30.]\n"
          ]
        }
      ]
    },
    {
      "cell_type": "code",
      "source": [
        "#array of evenly spaced values-->specify the step\n",
        "e=np.arange(10,30,5)\n",
        "print(e)"
      ],
      "metadata": {
        "colab": {
          "base_uri": "https://localhost:8080/"
        },
        "id": "s8IApaNB5fkW",
        "outputId": "0eb87158-f992-4834-facf-a082c185b3e3"
      },
      "execution_count": null,
      "outputs": [
        {
          "output_type": "stream",
          "name": "stdout",
          "text": [
            "[10 15 20 25]\n"
          ]
        }
      ]
    },
    {
      "cell_type": "code",
      "source": [
        "#convert a list to numpy array\n",
        "list2=[10,20,20,20,50]\n",
        "np_array=np.asarray(list2)\n",
        "print(np_array)\n",
        "type(np_array)"
      ],
      "metadata": {
        "colab": {
          "base_uri": "https://localhost:8080/"
        },
        "id": "oqDWCG6O5SEh",
        "outputId": "4f1eb241-ed25-46f4-d4b0-ea0bae108d6e"
      },
      "execution_count": null,
      "outputs": [
        {
          "output_type": "stream",
          "name": "stdout",
          "text": [
            "[10 20 20 20 50]\n"
          ]
        },
        {
          "output_type": "execute_result",
          "data": {
            "text/plain": [
              "numpy.ndarray"
            ]
          },
          "metadata": {},
          "execution_count": 23
        }
      ]
    },
    {
      "cell_type": "markdown",
      "source": [
        "Analysing a numpy array"
      ],
      "metadata": {
        "id": "ZH6nMPm55-xX"
      }
    },
    {
      "cell_type": "code",
      "source": [
        "c=np.random.randint(10,90,(5,5))\n",
        "print(c)"
      ],
      "metadata": {
        "colab": {
          "base_uri": "https://localhost:8080/"
        },
        "id": "JqgmUm8V6DsK",
        "outputId": "28154c7a-6ebe-4781-ce0c-59398826afb3"
      },
      "execution_count": null,
      "outputs": [
        {
          "output_type": "stream",
          "name": "stdout",
          "text": [
            "[[13 69 59 82 89]\n",
            " [38 63 15 34 11]\n",
            " [49 85 86 78 72]\n",
            " [72 21 30 60 79]\n",
            " [53 39 45 23 50]]\n"
          ]
        }
      ]
    },
    {
      "cell_type": "code",
      "source": [
        "#array dimension\n",
        "print(c.shape)"
      ],
      "metadata": {
        "colab": {
          "base_uri": "https://localhost:8080/"
        },
        "id": "GlwWPFYQ6HYy",
        "outputId": "6e32d7c5-ca1f-49fb-f112-041d6961fb8d"
      },
      "execution_count": null,
      "outputs": [
        {
          "output_type": "stream",
          "name": "stdout",
          "text": [
            "(5, 5)\n"
          ]
        }
      ]
    },
    {
      "cell_type": "code",
      "source": [
        "#number of elements in array\n",
        "print(c.size)"
      ],
      "metadata": {
        "colab": {
          "base_uri": "https://localhost:8080/"
        },
        "id": "Ky3tKHAq6Nx8",
        "outputId": "e3bfd0aa-b600-44cf-e554-14810e4ba2a8"
      },
      "execution_count": null,
      "outputs": [
        {
          "output_type": "stream",
          "name": "stdout",
          "text": [
            "25\n"
          ]
        }
      ]
    },
    {
      "cell_type": "code",
      "source": [
        "#checking the data type of values in the array\n",
        "print(c.dtype)"
      ],
      "metadata": {
        "colab": {
          "base_uri": "https://localhost:8080/"
        },
        "id": "YQLkQfIa6UOV",
        "outputId": "7033358b-9774-4337-e6d3-e7f69148ab5b"
      },
      "execution_count": null,
      "outputs": [
        {
          "output_type": "stream",
          "name": "stdout",
          "text": [
            "int64\n"
          ]
        }
      ]
    },
    {
      "cell_type": "code",
      "source": [],
      "metadata": {
        "id": "Lj9ZxDu46ePS"
      },
      "execution_count": null,
      "outputs": []
    },
    {
      "cell_type": "markdown",
      "source": [
        "Mathematical operations on a np array"
      ],
      "metadata": {
        "id": "YgBLDVDu6fxT"
      }
    },
    {
      "cell_type": "markdown",
      "source": [],
      "metadata": {
        "id": "vWx3bYpn6DH6"
      }
    },
    {
      "cell_type": "code",
      "source": [
        "list1=[1,2,3,4,5]\n",
        "list2=[6,7,8,9,10]\n",
        "print(list1+list2)"
      ],
      "metadata": {
        "id": "zDqrk8Mn57sL"
      },
      "execution_count": null,
      "outputs": []
    },
    {
      "cell_type": "code",
      "source": [
        "a=np.random.randint(0,10,(3,3))\n",
        "b=np.random.randint(10,20,(3,3))"
      ],
      "metadata": {
        "id": "h4V0VfLG6vO1"
      },
      "execution_count": null,
      "outputs": []
    },
    {
      "cell_type": "code",
      "source": [
        "print(a)\n",
        "print(b)"
      ],
      "metadata": {
        "colab": {
          "base_uri": "https://localhost:8080/"
        },
        "id": "wAi619956zZE",
        "outputId": "0b74839e-bc74-4a1e-8572-45ed21d1e77b"
      },
      "execution_count": null,
      "outputs": [
        {
          "output_type": "stream",
          "name": "stdout",
          "text": [
            "[[7 5 0]\n",
            " [1 4 6]\n",
            " [2 7 2]]\n",
            "[[11 15 17]\n",
            " [15 17 19]\n",
            " [16 19 17]]\n"
          ]
        }
      ]
    },
    {
      "cell_type": "code",
      "source": [
        "print(a+b)\n",
        "print(a-b)\n",
        "print(a*b)\n",
        "print(a/b)\n"
      ],
      "metadata": {
        "colab": {
          "base_uri": "https://localhost:8080/"
        },
        "id": "qEtaWtre65Xp",
        "outputId": "1b2d5077-8f2c-49a9-9b64-3bebd3d43599"
      },
      "execution_count": null,
      "outputs": [
        {
          "output_type": "stream",
          "name": "stdout",
          "text": [
            "[[18 20 17]\n",
            " [16 21 25]\n",
            " [18 26 19]]\n",
            "[[ -4 -10 -17]\n",
            " [-14 -13 -13]\n",
            " [-14 -12 -15]]\n",
            "[[ 77  75   0]\n",
            " [ 15  68 114]\n",
            " [ 32 133  34]]\n",
            "[[0.63636364 0.33333333 0.        ]\n",
            " [0.06666667 0.23529412 0.31578947]\n",
            " [0.125      0.36842105 0.11764706]]\n"
          ]
        }
      ]
    },
    {
      "cell_type": "code",
      "source": [
        "print(np.add(a,b))\n",
        "print(np.subtract(a,b))\n",
        "print(np.multiply(a,b))\n",
        "print(np.divide(a,b))"
      ],
      "metadata": {
        "colab": {
          "base_uri": "https://localhost:8080/"
        },
        "id": "a0PkaAMB7CXW",
        "outputId": "c7c78401-0dd4-45cf-f5c2-a311a121a0fe"
      },
      "execution_count": null,
      "outputs": [
        {
          "output_type": "stream",
          "name": "stdout",
          "text": [
            "[[18 20 17]\n",
            " [16 21 25]\n",
            " [18 26 19]]\n",
            "[[ -4 -10 -17]\n",
            " [-14 -13 -13]\n",
            " [-14 -12 -15]]\n",
            "[[ 77  75   0]\n",
            " [ 15  68 114]\n",
            " [ 32 133  34]]\n",
            "[[0.63636364 0.33333333 0.        ]\n",
            " [0.06666667 0.23529412 0.31578947]\n",
            " [0.125      0.36842105 0.11764706]]\n"
          ]
        }
      ]
    },
    {
      "cell_type": "markdown",
      "source": [
        "Array Manipulation"
      ],
      "metadata": {
        "id": "s1TgGNOd7Ri7"
      }
    },
    {
      "cell_type": "code",
      "source": [
        "#transpose\n",
        "trans=np.transpose(a)\n",
        "print(trans)\n",
        "print(trans.shape)"
      ],
      "metadata": {
        "colab": {
          "base_uri": "https://localhost:8080/"
        },
        "id": "YGYr53Mk7ko-",
        "outputId": "6e708bea-cc14-4377-fa0d-81a8679fb7f0"
      },
      "execution_count": null,
      "outputs": [
        {
          "output_type": "stream",
          "name": "stdout",
          "text": [
            "[[7 1 2]\n",
            " [5 4 7]\n",
            " [0 6 2]]\n",
            "(3, 3)\n"
          ]
        }
      ]
    },
    {
      "cell_type": "code",
      "source": [
        "array=np.random.randint(0,10,(2,3))\n",
        "print(array)\n",
        "print(array.shape)"
      ],
      "metadata": {
        "colab": {
          "base_uri": "https://localhost:8080/"
        },
        "id": "cAoaRGGE7MYm",
        "outputId": "7746b6dd-7594-4cc5-98a3-b88c966e31ac"
      },
      "execution_count": null,
      "outputs": [
        {
          "output_type": "stream",
          "name": "stdout",
          "text": [
            "[[9 5 8]\n",
            " [5 1 6]]\n",
            "(2, 3)\n"
          ]
        }
      ]
    },
    {
      "cell_type": "code",
      "source": [
        "trans2=array.T\n",
        "print(trans2)\n",
        "print(trans2.shape)"
      ],
      "metadata": {
        "colab": {
          "base_uri": "https://localhost:8080/"
        },
        "id": "ID85e62n71mm",
        "outputId": "5b214973-440c-4802-b698-66643cf43329"
      },
      "execution_count": null,
      "outputs": [
        {
          "output_type": "stream",
          "name": "stdout",
          "text": [
            "[[9 5]\n",
            " [5 1]\n",
            " [8 6]]\n",
            "(3, 2)\n"
          ]
        }
      ]
    },
    {
      "cell_type": "code",
      "source": [
        "#reshaping a array\n",
        "a=np.random.randint(0,10,(2,3))\n",
        "print(a)\n",
        "print(a.shape)"
      ],
      "metadata": {
        "colab": {
          "base_uri": "https://localhost:8080/"
        },
        "id": "qokL-Mcc8Ig4",
        "outputId": "320b7b4d-331a-457d-9772-477139bc2b15"
      },
      "execution_count": null,
      "outputs": [
        {
          "output_type": "stream",
          "name": "stdout",
          "text": [
            "[[3 7 2]\n",
            " [7 4 1]]\n",
            "(2, 3)\n"
          ]
        }
      ]
    },
    {
      "cell_type": "code",
      "source": [
        "b=a.reshape(3,2)\n",
        "print(b)\n",
        "print(b.shape)\n"
      ],
      "metadata": {
        "colab": {
          "base_uri": "https://localhost:8080/"
        },
        "id": "vZD1J-CH8RNt",
        "outputId": "a5ee55a7-6182-4f3b-b75d-99467ac9bb24"
      },
      "execution_count": null,
      "outputs": [
        {
          "output_type": "stream",
          "name": "stdout",
          "text": [
            "[[3 7]\n",
            " [2 7]\n",
            " [4 1]]\n",
            "(3, 2)\n"
          ]
        }
      ]
    }
  ]
}