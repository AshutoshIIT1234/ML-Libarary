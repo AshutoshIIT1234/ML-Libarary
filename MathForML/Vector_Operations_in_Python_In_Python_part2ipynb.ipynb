{
  "nbformat": 4,
  "nbformat_minor": 0,
  "metadata": {
    "colab": {
      "provenance": []
    },
    "kernelspec": {
      "name": "python3",
      "display_name": "Python 3"
    },
    "language_info": {
      "name": "python"
    }
  },
  "cells": [
    {
      "cell_type": "code",
      "execution_count": 1,
      "metadata": {
        "id": "T61FokmtEv4X"
      },
      "outputs": [],
      "source": [
        "import numpy as np"
      ]
    },
    {
      "cell_type": "code",
      "source": [
        "a=np.array([2,3])\n",
        "b=np.array([4,4])\n",
        "a_dot_b=np.dot(a,b)\n",
        "print(a_dot_b)"
      ],
      "metadata": {
        "colab": {
          "base_uri": "https://localhost:8080/"
        },
        "id": "fdgk5sPFYuaK",
        "outputId": "0001a70e-0e90-463c-ef6b-c8a5035021e9"
      },
      "execution_count": 3,
      "outputs": [
        {
          "output_type": "stream",
          "name": "stdout",
          "text": [
            "20\n"
          ]
        }
      ]
    },
    {
      "cell_type": "code",
      "source": [
        "c=np.array([2,3,9])\n",
        "d=np.array([4,4008,6])\n",
        "c_dot_d=np.dot(c,d)\n",
        "print(c_dot_d)"
      ],
      "metadata": {
        "colab": {
          "base_uri": "https://localhost:8080/"
        },
        "id": "1h-QjJfcaMWd",
        "outputId": "7b521f94-a26c-43f1-da84-3586aab48caa"
      },
      "execution_count": 8,
      "outputs": [
        {
          "output_type": "stream",
          "name": "stdout",
          "text": [
            "12086\n"
          ]
        }
      ]
    },
    {
      "cell_type": "markdown",
      "source": [
        "Cross Product of two vector"
      ],
      "metadata": {
        "id": "f0STU9wiafql"
      }
    },
    {
      "cell_type": "code",
      "source": [
        "a=np.array([2,3,9])\n",
        "b=np.array([4,40,98])\n",
        "a_cross_b=np.cross(a,b)\n",
        "print(a_cross_b)"
      ],
      "metadata": {
        "colab": {
          "base_uri": "https://localhost:8080/"
        },
        "id": "G41kfH96ad-k",
        "outputId": "a02ca1c9-151c-48f6-c5df-5d47d0b0b5c1"
      },
      "execution_count": 13,
      "outputs": [
        {
          "output_type": "stream",
          "name": "stdout",
          "text": [
            "[ -66 -160   68]\n"
          ]
        }
      ]
    },
    {
      "cell_type": "markdown",
      "source": [
        "Projetion of a vector on v vector"
      ],
      "metadata": {
        "id": "0CYoL1W-bd5b"
      }
    },
    {
      "cell_type": "code",
      "source": [
        "a=np.array([2,5])\n",
        "v=np.array([8,-6])\n",
        "magnitude_of_v=np.linalg.norm(v)\n",
        "projection_of_a_on_v=a.dot(v)/magnitude_of_v**2*v\n",
        "print(projection_of_a_on_v)"
      ],
      "metadata": {
        "colab": {
          "base_uri": "https://localhost:8080/"
        },
        "id": "TFco_7D6a9ne",
        "outputId": "eec0d2b4-166e-4bb3-fbad-285e9e4ff08f"
      },
      "execution_count": 16,
      "outputs": [
        {
          "output_type": "stream",
          "name": "stdout",
          "text": [
            "[-1.12  0.84]\n"
          ]
        }
      ]
    }
  ]
}